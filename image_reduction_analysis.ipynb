{
 "cells": [
  {
   "cell_type": "markdown",
   "metadata": {},
   "source": [
    "### What's in our backpack\n",
    "\n",
    "Here's a list of functions packing up what we've learnt in the previous lesson."
   ]
  },
  {
   "cell_type": "code",
   "execution_count": null,
   "metadata": {},
   "outputs": [],
   "source": [
    "def argmax(arr):\n",
    "    \"\"\"Find the maximum point of a 1-d or 2-d array\"\"\"\n",
    "    if len(arr.shape) == 1:\n",
    "        return np.argmax(arr)\n",
    "    else:\n",
    "        return np.unravel_index(np.argmax(arr), arr.shape)\n",
    "    \n",
    "def get_data(name):\n",
    "    \"\"\"Get data from a FITS frame\"\"\"\n",
    "    hdul = fits.open(name)\n",
    "    return hdul[0].data\n",
    "\n",
    "def get_header(name):\n",
    "    \"\"\"Get header from a FITS frame\"\"\"\n",
    "    hdul = fits.open(name)\n",
    "    return hdul[0].header\n",
    "\n",
    "def plot(arr, vmin=None, vmax=None, argmax=None, new=True, **kwargs):\n",
    "    \"\"\"Plot a 1-d or 2-d array\"\"\"\n",
    "    if len(arr.shape) == 1: \n",
    "        plot_1d(arr, argmax, new, **kwargs)\n",
    "    elif len(arr.shape) == 2:\n",
    "        plot_2d(arr, vmin, vmax, argmax, new, **kwargs)\n",
    "    else:\n",
    "        pass\n",
    "    \n",
    "def plot_1d(arr, argmax=None, new=True, xlabel='pixel', ylabel='ADU', **kwargs):\n",
    "    \"\"\"Plot a 1-d array, possibly with its maximum highlighted\"\"\"\n",
    "    if new: plt.figure(figsize=(16,8))\n",
    "    plt.plot(range(len(arr)), arr, **kwargs)\n",
    "    if argmax is not None: plt.scatter(argmax, np.max(arr), color='r')\n",
    "    plt.xlabel(xlabel)\n",
    "    plt.ylabel(ylabel)\n",
    "\n",
    "def plot_2d(arr, vmin=None, vmax=None, argmax=None, new=True, xlabel='x pixel', ylabel='y pixel', **kwargs):\n",
    "    \"\"\"Plot a 2-d array, possibly with its maximum highlighted\"\"\"\n",
    "    if new: plt.figure(figsize=(16,8))\n",
    "    plt.imshow(arr, vmin=vmin, vmax=vmax, **kwargs)\n",
    "    plt.xlabel(xlabel)\n",
    "    plt.ylabel(ylabel)\n",
    "    plt.colorbar()\n",
    "    if argmax is not None: plt.scatter(argmax[1], argmax[0], color='r')\n",
    "    \n",
    "def plot_medrange(arr, hwid=200, argmax=None, new=True, **kwargs):\n",
    "    \"\"\"Same as `plot`, but with a colorbar centered around the median value\"\"\"\n",
    "    plot(arr, np.nanmedian(arr)-hwid, np.nanmedian(arr)+hwid, argmax, new, **kwargs)\n",
    "    \n",
    "def plot_series(t, f, new=True, xlabel='time', ylabel='Flux (ph)', **kwargs):\n",
    "    if new: plt.figure(figsize=(16,8))\n",
    "    plt.plot(t, f, **kwargs)\n",
    "    plt.xlabel(xlabel)\n",
    "    plt.ylabel(ylabel)"
   ]
  },
  {
   "cell_type": "markdown",
   "metadata": {},
   "source": [
    "### Get rid of bias"
   ]
  },
  {
   "cell_type": "markdown",
   "metadata": {},
   "source": [
    "We can easily get an idea of the bias by setting a proper range for the colorbar when plotting our science frames:"
   ]
  },
  {
   "cell_type": "code",
   "execution_count": null,
   "metadata": {},
   "outputs": [],
   "source": [
    "from astropy.io import fits\n",
    "import matplotlib.pyplot as plt\n",
    "import numpy as np\n",
    "    \n",
    "names = np.array(['/Users/guido/Dropbox/courses/2019/SZ_Lyn/Autosave Image -%03i.fit' % i for i in range(1,211)])\n",
    "sci = np.array([get_data(n) for n in names])\n",
    "sci_hdr = np.array([get_header(n) for n in names])\n",
    "plot_medrange(sci[0])  # Only 1st frame is plotted\n",
    "plt.show()"
   ]
  },
  {
   "cell_type": "markdown",
   "metadata": {},
   "source": [
    "Let's compare it with a bias frame:"
   ]
  },
  {
   "cell_type": "code",
   "execution_count": null,
   "metadata": {},
   "outputs": [],
   "source": [
    "bias = get_data('/Users/guido/Dropbox/courses/2019/bias/CCD Image 10.fit')\n",
    "plot_medrange(bias)\n",
    "plt.show()"
   ]
  },
  {
   "cell_type": "markdown",
   "metadata": {},
   "source": [
    "Bias frames appear flipped along both axes (look at the dead columns), so we have to flip them again:"
   ]
  },
  {
   "cell_type": "code",
   "execution_count": null,
   "metadata": {},
   "outputs": [],
   "source": [
    "bias = np.flip(get_data('/Users/guido/Dropbox/courses/2019/bias/CCD Image 10.fit'))\n",
    "plot_medrange(bias)\n",
    "plt.show()"
   ]
  },
  {
   "cell_type": "markdown",
   "metadata": {},
   "source": [
    "A **master bias** is obtained by averaging several bias frames:"
   ]
  },
  {
   "cell_type": "code",
   "execution_count": null,
   "metadata": {},
   "outputs": [],
   "source": [
    "bias_arr = np.array([np.flip(get_data('/Users/guido/Dropbox/courses/2019/bias/CCD Image %i.fit' % i)) for i in range(10,17)])\n",
    "bias_med = np.median(bias_arr, axis=0)\n",
    "plot_medrange(bias_med)\n",
    "plt.show()"
   ]
  },
  {
   "cell_type": "markdown",
   "metadata": {},
   "source": [
    "Let's remove the master bias then:"
   ]
  },
  {
   "cell_type": "code",
   "execution_count": null,
   "metadata": {},
   "outputs": [],
   "source": [
    "sci_nobias = sci - bias_med\n",
    "plot_medrange(sci_nobias[0])\n",
    "plt.show()"
   ]
  },
  {
   "cell_type": "markdown",
   "metadata": {},
   "source": [
    "The removal is effective in the x direction, but not in the y direction. This may happen when the bias is not stable (the CCD is not so high-quality). We don't care about this for now, as any bias residual will be removed together with the background later."
   ]
  },
  {
   "cell_type": "code",
   "execution_count": null,
   "metadata": {},
   "outputs": [],
   "source": [
    "plot(np.median(sci[0], axis=0))\n",
    "plot(np.median(sci_nobias[0], axis=0))\n",
    "plot(np.median(sci[0], axis=1))\n",
    "plot(np.median(sci_nobias[0], axis=1))\n",
    "plt.show()"
   ]
  },
  {
   "cell_type": "markdown",
   "metadata": {},
   "source": [
    "### Make my field flat"
   ]
  },
  {
   "cell_type": "markdown",
   "metadata": {},
   "source": [
    "Again, we collect and average a set of flat frames to create a **master flat**. The master bias is subtracted to the individual flat frames prior to averaging. The master flat is then normalized:"
   ]
  },
  {
   "cell_type": "code",
   "execution_count": null,
   "metadata": {},
   "outputs": [],
   "source": [
    "flat_arr = np.array([get_data('/Users/guido/Dropbox/courses/2019/flat/CCD Image %i.fit' % i) for i in range(8,16)])\n",
    "flat_med = np.median(flat_arr-bias_med, axis=0)\n",
    "flat_norm = flat_med/np.mean(flat_med)\n",
    "plot_medrange(flat_norm, hwid=0.05)\n",
    "plt.show()"
   ]
  },
  {
   "cell_type": "markdown",
   "metadata": {},
   "source": [
    "Flat-fielding is performed by dividing the debiased science frames by the master flat:"
   ]
  },
  {
   "cell_type": "code",
   "execution_count": null,
   "metadata": {},
   "outputs": [],
   "source": [
    "sci_red = sci_nobias/flat_norm\n",
    "plot_medrange(sci_red[0])\n",
    "plt.show()"
   ]
  },
  {
   "cell_type": "markdown",
   "metadata": {},
   "source": [
    "### Counting photons\n",
    "\n",
    "Let's focus on the neighborhood of our target:"
   ]
  },
  {
   "cell_type": "code",
   "execution_count": null,
   "metadata": {},
   "outputs": [],
   "source": [
    "sub_sci_red = np.array([s[450:580,580:710] for s in sci_red])\n",
    "am = np.array([argmax(s) for s in sub_sci_red])\n",
    "plot(sub_sci_red[0], argmax=am[0])\n",
    "plot_medrange(sub_sci_red[0], argmax=am[0])\n",
    "plt.show()"
   ]
  },
  {
   "cell_type": "markdown",
   "metadata": {},
   "source": [
    "Let's separate target and background with a square mask. First, we use ```ogrid``` to center the indices of the image at the maximum. Then, we select the indices within a square. "
   ]
  },
  {
   "cell_type": "code",
   "execution_count": null,
   "metadata": {},
   "outputs": [],
   "source": [
    "def mask_sq(sci_red, am, hwidth=10):\n",
    "    shape = sci_red.shape\n",
    "    y, x = np.ogrid[-am[0]:shape[0]-am[0], -am[1]:shape[1]-am[1]]\n",
    "    return np.logical_and(np.abs(x) < hwidth, np.abs(y) < hwidth)\n",
    "\n",
    "\n",
    "\n",
    "inside = np.copy(sub_sci_red)  # `copy` creates new objects\n",
    "outside = np.copy(sub_sci_red)\n",
    "for i, o, s, a in zip(inside, outside, sub_sci_red, am):\n",
    "    mask = mask_sq(s, a)\n",
    "    i[~mask] = np.nan\n",
    "    o[mask] = np.nan\n",
    "    \n",
    "plot(sub_sci_red[0], argmax=am[0])\n",
    "plot(inside[0], argmax=am[0])\n",
    "plot_medrange(outside[0])\n",
    "plt.show()"
   ]
  },
  {
   "cell_type": "markdown",
   "metadata": {},
   "source": [
    "The histograms of ```inside``` and ```outside``` are revealing:"
   ]
  },
  {
   "cell_type": "code",
   "execution_count": null,
   "metadata": {},
   "outputs": [],
   "source": [
    "def safe(arr):\n",
    "    \"\"\"Reject NaNs\"\"\"\n",
    "    return arr[~np.isnan(arr)]\n",
    "\n",
    "def hist(arr, bins=None, range=None):\n",
    "    \"\"\"Plot histogram\"\"\"\n",
    "    plt.figure()\n",
    "    plt.hist(safe(arr).ravel(), bins, range, log=True) \n",
    "\n",
    "hist(inside[0], bins=20)\n",
    "hist(outside[0], bins=20)\n",
    "plt.show()"
   ]
  },
  {
   "cell_type": "markdown",
   "metadata": {},
   "source": [
    "The ```outside``` image is flat enough: its median can be used as a reliable estimation of the background."
   ]
  },
  {
   "cell_type": "code",
   "execution_count": null,
   "metadata": {},
   "outputs": [],
   "source": [
    "med_row = np.nanmedian(outside, axis=1)\n",
    "med_col = np.nanmedian(outside, axis=2)\n",
    "bkg = np.array([np.nanmedian(o) for o in outside])\n",
    "\n",
    "plot(med_row[0])\n",
    "plot(med_col[0], new=False)\n",
    "plt.axhline(bkg[0], c='red', linewidth=2)\n",
    "plt.show()"
   ]
  },
  {
   "cell_type": "markdown",
   "metadata": {},
   "source": [
    "We can finally count photons on the background-subtracted image. Note that we must convert ADUs into photons using the **gain** of the detector. The results can be plotted as a function of the Julian date."
   ]
  },
  {
   "cell_type": "code",
   "execution_count": null,
   "metadata": {},
   "outputs": [],
   "source": [
    "sub = np.array([i-b for i,b in zip(inside, bkg)]) \n",
    "gain = 0.6  # e-/counts\n",
    "signal = np.array([np.nansum(s)*gain for s in sub])\n",
    "jd = np.array([h['JD-HELIO'] for h in sci_hdr])\n",
    "plot_series(jd, signal, xlabel='time (JD)')\n",
    "plt.show()"
   ]
  },
  {
   "cell_type": "markdown",
   "metadata": {},
   "source": [
    "Let's summarize with a new function what we've done so far. We can also roughly estimate the **signal-to-noise ratio** (assuming dark current and read-out noise are negligible): "
   ]
  },
  {
   "cell_type": "code",
   "execution_count": null,
   "metadata": {
    "scrolled": true
   },
   "outputs": [],
   "source": [
    "def phot(sci_red, mask_func, gain=0.6, ron=10.6, **kwargs):\n",
    "    inside = np.copy(sci_red)  \n",
    "    outside = np.copy(sci_red)\n",
    "    for i, o in zip(inside, outside):\n",
    "        mask = mask_func(s, a, **kwargs)\n",
    "        i[~mask] = np.nan\n",
    "        o[mask] = np.nan\n",
    "    bkg = np.array([np.nanmedian(o) for o in outside])\n",
    "    sub = np.array([i-b for i,b in zip(inside, bkg)]) \n",
    "    signal = np.array([np.nansum(s)*gain for s in sub])\n",
    "    snr = signal / np.sqrt((signal+2*bkg)+2*ron*2)  # Very very roughly\n",
    "    return signal, snr\n",
    "\n",
    "signal_sq, snr_sq = phot(sub_sci_red, mask_sq)\n",
    "plot_series(jd, signal_sq, xlabel='time (JD)')\n",
    "plot_series(jd, snr_sq, xlabel='time (JD)')\n",
    "plt.show()"
   ]
  },
  {
   "cell_type": "markdown",
   "metadata": {},
   "source": [
    "Remember that we used a square mask? Let's use a more suited circular mask, and shift the center a little:"
   ]
  },
  {
   "cell_type": "code",
   "execution_count": null,
   "metadata": {},
   "outputs": [],
   "source": []
  },
  {
   "cell_type": "code",
   "execution_count": null,
   "metadata": {},
   "outputs": [],
   "source": [
    "def mask_circ(sci_red, am, rad=11):\n",
    "    shape = sci_red.shape\n",
    "    y, x = np.ogrid[-am[0]:shape[0]-am[0], -am[1]:shape[1]-am[1]]\n",
    "    return x**2 + y**2 < rad**2\n",
    "\n",
    "inside = np.copy(sub_sci_red)  \n",
    "outside = np.copy(sub_sci_red)\n",
    "for i, o, s, a in zip(inside, outside, sub_sci_red, am):\n",
    "    i[~mask] = np.nan\n",
    "    o[mask] = np.nan\n",
    "\n",
    "plot(inside[0], argmax=cen)\n",
    "plot_medrange(outside[0])\n",
    "plt.show()"
   ]
  },
  {
   "cell_type": "code",
   "execution_count": null,
   "metadata": {},
   "outputs": [],
   "source": [
    "signal_circ, snr_circ = phot(sub_sci_red, mask_circ)\n",
    "plot_series(jd, signal_sq, xlabel='time (JD)')\n",
    "plot_series(jd, signal_circ, xlabel='time (JD)', new=False)\n",
    "plot_series(jd, snr_sq, xlabel='time (JD)')\n",
    "plot_series(jd, snr_circ, xlabel='time (JD)', new=False)\n",
    "\n",
    "plt.show()"
   ]
  }
 ],
 "metadata": {
  "kernelspec": {
   "display_name": "Python 3",
   "language": "python",
   "name": "python3"
  },
  "language_info": {
   "codemirror_mode": {
    "name": "ipython",
    "version": 3
   },
   "file_extension": ".py",
   "mimetype": "text/x-python",
   "name": "python",
   "nbconvert_exporter": "python",
   "pygments_lexer": "ipython3",
   "version": "3.5.6"
  }
 },
 "nbformat": 4,
 "nbformat_minor": 2
}
