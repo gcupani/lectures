{
 "cells": [
  {
   "cell_type": "markdown",
   "metadata": {},
   "source": [
    "### Quick start with FITS\n",
    "A simple image frame contains only a primary **header data unit (HDU)**. We will use **Astropy** to open it.\n",
    "> Edit the path to point to *your* frame!"
   ]
  },
  {
   "cell_type": "code",
   "execution_count": null,
   "metadata": {},
   "outputs": [],
   "source": [
    "from astropy.io import fits\n",
    "name = '/Users/guido/Dropbox/lectures/2019/SZ_Lyn/Autosave Image -001.fit'\n",
    "hdul = fits.open(name)\n",
    "hdul.info()"
   ]
  },
  {
   "cell_type": "markdown",
   "metadata": {},
   "source": [
    "The HDU contains both **metadata** (header) and **data** (image).   \n",
    "The header is like a dictionary and its elements (**cards** or **keywords**) can be called by name:"
   ]
  },
  {
   "cell_type": "code",
   "execution_count": null,
   "metadata": {
    "scrolled": true
   },
   "outputs": [],
   "source": [
    "hdr = hdul[0].header\n",
    "hdr"
   ]
  },
  {
   "cell_type": "code",
   "execution_count": null,
   "metadata": {},
   "outputs": [],
   "source": [
    "hdr['EXPTIME']"
   ]
  },
  {
   "cell_type": "markdown",
   "metadata": {},
   "source": [
    "You can modify keywords and add comments to keywords:"
   ]
  },
  {
   "cell_type": "code",
   "execution_count": null,
   "metadata": {},
   "outputs": [],
   "source": [
    "hdr['OBJECT'], hdr.comments['OBJECT']"
   ]
  },
  {
   "cell_type": "code",
   "execution_count": null,
   "metadata": {},
   "outputs": [],
   "source": [
    "hdr['OBJECT'] = 'V* SZ Lyn'\n",
    "hdr.comments['OBJECT'] = 'Variable Star of delta Sct type'\n",
    "hdr['OBJECT'], hdr.comments['OBJECT']"
   ]
  },
  {
   "cell_type": "markdown",
   "metadata": {},
   "source": [
    "The image is an **array** and its pixels can be addressed by index:"
   ]
  },
  {
   "cell_type": "code",
   "execution_count": null,
   "metadata": {},
   "outputs": [],
   "source": [
    "img = hdul[0].data\n",
    "img"
   ]
  },
  {
   "cell_type": "code",
   "execution_count": null,
   "metadata": {},
   "outputs": [],
   "source": [
    "img[0][0]"
   ]
  },
  {
   "cell_type": "markdown",
   "metadata": {},
   "source": [
    "You can of course save your changes (in a new frame, possibly):"
   ]
  },
  {
   "cell_type": "code",
   "execution_count": null,
   "metadata": {},
   "outputs": [],
   "source": [
    "hdul.writeto('new_frame.fits', overwrite=True)\n",
    "hdul_test = fits.open('new_frame.fits')\n",
    "hdul_test[0].header['OBJECT']"
   ]
  },
  {
   "cell_type": "markdown",
   "metadata": {},
   "source": [
    "### Learn how to speak array\n",
    "An image is (quite obviously) a **2-d matrix** of pixels. You can think of it as an **array of (sub-)arrays**. Each sub-array is a row of pixels. The array of all rows is the whole matrix. ```shape``` gives the size of the matrix (rows times columns)."
   ]
  },
  {
   "cell_type": "code",
   "execution_count": null,
   "metadata": {},
   "outputs": [],
   "source": [
    "img.shape"
   ]
  },
  {
   "cell_type": "markdown",
   "metadata": {},
   "source": [
    "A sub-array can be called with a single index: "
   ]
  },
  {
   "cell_type": "code",
   "execution_count": null,
   "metadata": {},
   "outputs": [],
   "source": [
    "row0 = img[0]\n",
    "row0"
   ]
  },
  {
   "cell_type": "markdown",
   "metadata": {},
   "source": [
    "Then you can call an element (or a slice) of the sub-array:"
   ]
  },
  {
   "cell_type": "code",
   "execution_count": null,
   "metadata": {},
   "outputs": [],
   "source": [
    "row0[2]"
   ]
  },
  {
   "cell_type": "code",
   "execution_count": null,
   "metadata": {
    "scrolled": true
   },
   "outputs": [],
   "source": [
    "row0[::2]"
   ]
  },
  {
   "cell_type": "markdown",
   "metadata": {},
   "source": [
    "You can do the same with two indices:"
   ]
  },
  {
   "cell_type": "code",
   "execution_count": null,
   "metadata": {},
   "outputs": [],
   "source": [
    "img[0][2], img[0,2]"
   ]
  },
  {
   "cell_type": "markdown",
   "metadata": {},
   "source": [
    "Notice that using two sets of brackets is *not* the same as using one. Each set of brackets is applied *after* the previous one, while operations within brackets are performed *all at once*."
   ]
  },
  {
   "cell_type": "code",
   "execution_count": null,
   "metadata": {},
   "outputs": [],
   "source": [
    "img[0][:], img[0,:]"
   ]
  },
  {
   "cell_type": "code",
   "execution_count": null,
   "metadata": {
    "scrolled": true
   },
   "outputs": [],
   "source": [
    "img[:][0], img[:,0]"
   ]
  },
  {
   "cell_type": "markdown",
   "metadata": {},
   "source": [
    "### A plot is worth a thousand printouts\n",
    "We will use **Matplotlib** to visualize data."
   ]
  },
  {
   "cell_type": "code",
   "execution_count": null,
   "metadata": {},
   "outputs": [],
   "source": [
    "import matplotlib.pyplot as plt\n",
    "plt.imshow(img)\n",
    "plt.show()"
   ]
  },
  {
   "cell_type": "markdown",
   "metadata": {},
   "source": [
    "To extract a sub-image, you can slice the array:"
   ]
  },
  {
   "cell_type": "code",
   "execution_count": null,
   "metadata": {},
   "outputs": [],
   "source": [
    "sub_img = img[510:530, 630:660]\n",
    "plt.imshow(sub_img)\n",
    "plt.show()"
   ]
  },
  {
   "cell_type": "markdown",
   "metadata": {},
   "source": [
    "You can use ```figure``` to create a new figure instead of overplotting it. ```show``` is used just at the end to display all figures. Compare:"
   ]
  },
  {
   "cell_type": "code",
   "execution_count": null,
   "metadata": {},
   "outputs": [],
   "source": [
    "plt.imshow(img)\n",
    "plt.imshow(sub_img)\n",
    "...\n",
    "plt.show()  # Only last image is shown"
   ]
  },
  {
   "cell_type": "code",
   "execution_count": null,
   "metadata": {},
   "outputs": [],
   "source": [
    "plt.figure()  # First figure\n",
    "plt.imshow(img)\n",
    "plt.figure()  # Second figure\n",
    "plt.imshow(sub_img)\n",
    "...\n",
    "plt.show()  # All images are shown in separate figures"
   ]
  },
  {
   "cell_type": "markdown",
   "metadata": {},
   "source": [
    "Based on the above example, let's make a simple function to plot a list of images (*bigger* images, with added colorbar and axis labels):"
   ]
  },
  {
   "cell_type": "code",
   "execution_count": null,
   "metadata": {},
   "outputs": [],
   "source": [
    "def plot_list(imgs):\n",
    "    for i in imgs:\n",
    "        plt.figure(figsize=(16,8))\n",
    "        plt.imshow(i)\n",
    "        plt.colorbar()\n",
    "        plt.xlabel('x pixel')\n",
    "        plt.ylabel('y pixel')\n",
    "    plt.show()\n",
    "plot_list([img, sub_img])"
   ]
  },
  {
   "cell_type": "markdown",
   "metadata": {},
   "source": [
    "Beware that the input to this particular function *must* be a list, even if you want to plot a single image:"
   ]
  },
  {
   "cell_type": "code",
   "execution_count": null,
   "metadata": {},
   "outputs": [],
   "source": [
    "#plot_list(sub_img)  # WRONG!\n",
    "plot_list([sub_img])"
   ]
  },
  {
   "cell_type": "markdown",
   "metadata": {},
   "source": [
    "```imshow``` works only with 2-d matrices (images). To plot simple arrays (like image rows or columns), use ```plot``` for a continuous plot or ```scatter``` for a scatter plot:"
   ]
  },
  {
   "cell_type": "code",
   "execution_count": null,
   "metadata": {},
   "outputs": [],
   "source": [
    "row = sub_img[7,:]\n",
    "col = sub_img[:,13]\n",
    "row_range = range(sub_img.shape[1])\n",
    "col_range = range(sub_img.shape[0])\n",
    "plt.figure()\n",
    "plt.plot(row_range, row)\n",
    "plt.figure()\n",
    "plt.scatter(col_range, col)\n",
    "plt.show()"
   ]
  },
  {
   "cell_type": "markdown",
   "metadata": {},
   "source": [
    "Let's improve our plotting function to work with both rows/columns and full images. Note that the part that makes the plot (```plot```) has been splitted from the part that loops through all arrays (```plot_list```):"
   ]
  },
  {
   "cell_type": "code",
   "execution_count": null,
   "metadata": {},
   "outputs": [],
   "source": [
    "def plot_list(arrs):\n",
    "    for a in arrs:\n",
    "        plt.figure(figsize=(16,8))\n",
    "        plot(a)\n",
    "    plt.show()\n",
    "\n",
    "def plot(arr):\n",
    "    if len(arr.shape) == 1:\n",
    "        plt.plot(range(len(arr)), arr)\n",
    "        plt.xlabel('pixel')\n",
    "        plt.ylabel('ADU')\n",
    "    elif len(arr.shape) == 2:\n",
    "        plt.imshow(arr)\n",
    "        plt.colorbar()\n",
    "        plt.xlabel('x pixel')\n",
    "        plt.ylabel('y pixel')\n",
    "    else:\n",
    "        pass\n",
    "\n",
    "\n",
    "col = sub_img[:,13]\n",
    "plot_list([sub_img, row, col])"
   ]
  },
  {
   "cell_type": "markdown",
   "metadata": {},
   "source": [
    "> **Your turn now**: write the code to extract a 11x11-pixel window centered in (7, 13) from ```sub_img``` and to plot in separate figures all the rows and columns of this new sub image."
   ]
  },
  {
   "cell_type": "markdown",
   "metadata": {},
   "source": [
    "### And now for some serious data crunching\n",
    "We will use **NumPy** to do statistics on arrays. A simple test case: find the global maximum of an array (remember from analysis: the *maximum point* is the index where the array reaches its *maximum value*).  "
   ]
  },
  {
   "cell_type": "code",
   "execution_count": null,
   "metadata": {},
   "outputs": [],
   "source": [
    "import numpy as np\n",
    "row_mv = np.max(row) \n",
    "row_mp = np.argmax(row)\n",
    "row_mv, row_mp"
   ]
  },
  {
   "cell_type": "code",
   "execution_count": null,
   "metadata": {},
   "outputs": [],
   "source": [
    "plt.plot(range(len(row)), row)\n",
    "plt.scatter(row_mp, row_mv, color='r') \n",
    "plt.show()"
   ]
  },
  {
   "cell_type": "markdown",
   "metadata": {},
   "source": [
    "You can use ```where``` to check the result:"
   ]
  },
  {
   "cell_type": "code",
   "execution_count": null,
   "metadata": {},
   "outputs": [],
   "source": [
    "np.where(row==row_mv)"
   ]
  },
  {
   "cell_type": "markdown",
   "metadata": {},
   "source": [
    "In the case of an image, ```argmax``` returns the maximum point of the flattened array (i.e. the array obtained by concatenating all rows):"
   ]
  },
  {
   "cell_type": "code",
   "execution_count": null,
   "metadata": {},
   "outputs": [],
   "source": [
    "sub_img_mv = np.max(sub_img)\n",
    "sub_img_mp = np.argmax(sub_img)\n",
    "sub_img_mv, sub_img_mp"
   ]
  },
  {
   "cell_type": "markdown",
   "metadata": {},
   "source": [
    "To obtain a 2-tuple with the row and column of the maximum point, you have to ‘unravel’ the result onto the shape of the array: "
   ]
  },
  {
   "cell_type": "code",
   "execution_count": null,
   "metadata": {},
   "outputs": [],
   "source": [
    "(sub_img_mrow, sub_img_mcol) = np.unravel_index(np.argmax(sub_img), sub_img.shape)\n",
    "sub_img_mrow, sub_img_mcol"
   ]
  },
  {
   "cell_type": "markdown",
   "metadata": {},
   "source": [
    "You obtain something similar with ```where```:"
   ]
  },
  {
   "cell_type": "code",
   "execution_count": null,
   "metadata": {},
   "outputs": [],
   "source": [
    "np.where(sub_img==sub_img_mv)"
   ]
  },
  {
   "cell_type": "markdown",
   "metadata": {},
   "source": [
    "Let's again improve our plotting function to display also the maximum point (and maximum value, for single arrays). Note that we can redefine ```plot``` without changing ```plot_list```:"
   ]
  },
  {
   "cell_type": "code",
   "execution_count": null,
   "metadata": {
    "scrolled": true
   },
   "outputs": [],
   "source": [
    "def argmax(arr):\n",
    "    if len(arr.shape) == 1:\n",
    "        return np.argmax(arr)\n",
    "    else:\n",
    "        return np.unravel_index(np.argmax(arr), arr.shape)\n",
    "\n",
    "def plot(arr):\n",
    "    am = argmax(arr)\n",
    "    if len(arr.shape) == 1:\n",
    "        plt.plot(range(len(arr)), arr)\n",
    "        plt.scatter(am, np.max(arr), color='r')  # In 1-d, we plot location and maximum value\n",
    "        plt.xlabel('pixel')\n",
    "        plt.ylabel('ADU')\n",
    "    elif len(arr.shape) == 2:\n",
    "        plt.imshow(arr)\n",
    "        plt.colorbar()\n",
    "        plt.scatter(am[1], am[0], color='r')  # In 2-d, we only plot location\n",
    "        plt.xlabel('x pixel')\n",
    "        plt.ylabel('y pixel')\n",
    "    else:\n",
    "        pass\n",
    "    \n",
    "plot_list([sub_img, row, col])"
   ]
  },
  {
   "cell_type": "markdown",
   "metadata": {},
   "source": [
    "> **Your turn now**: with help from the NumPy Reference (https://docs.scipy.org/doc/numpy-1.16.1/reference/), compute the arithmetic mean and the median of ```sub_img```. What can we infer from the difference between the two values? **Extra points**: compute the median of each rows of ```img``` separately and plot all the values as a function of the row index."
   ]
  }
 ],
 "metadata": {
  "kernelspec": {
   "display_name": "Python 3",
   "language": "python",
   "name": "python3"
  },
  "language_info": {
   "codemirror_mode": {
    "name": "ipython",
    "version": 3
   },
   "file_extension": ".py",
   "mimetype": "text/x-python",
   "name": "python",
   "nbconvert_exporter": "python",
   "pygments_lexer": "ipython3",
   "version": "3.5.6"
  }
 },
 "nbformat": 4,
 "nbformat_minor": 2
}
