{
 "cells": [
  {
   "cell_type": "markdown",
   "metadata": {},
   "source": [
    "## Photometry\n",
    "\n",
    "In this notebook, you will learn to count photons from a target source and determine its magnitude.\n",
    "\n",
    "Requisites:\n",
    "* a working Python 3.x environment, with **Astropy** (4.0), **Matplotlib** (3.1), and **NumPy** (1.18) installed;\n",
    "* a ```utils.py``` file with useful functions;\n",
    "* a (set of) reduced science frame(s) (e.g. ```sci_2015/Reduced-001(NNN).fits```)."
   ]
  },
  {
   "cell_type": "markdown",
   "metadata": {},
   "source": [
    "### A bullseye on our star\n",
    "\n",
    "Let's start from our reduced science frame, and highlight the pixel with the highest ADU value (we are lucky that it is on our star!):"
   ]
  },
  {
   "cell_type": "code",
   "execution_count": null,
   "metadata": {},
   "outputs": [],
   "source": [
    "from astropy.io import fits\n",
    "import matplotlib.pyplot as plt\n",
    "from utils import *\n",
    "\n",
    "\n",
    "sci = fits.open('sci_2015/Reduced-001.fits')[0]\n",
    "x_max, y_max = extrema(sci.data)\n",
    "\n",
    "plot_img_medrange(sci.data)\n",
    "plt.scatter(x_max, y_max)\n",
    "plt.show()"
   ]
  },
  {
   "cell_type": "markdown",
   "metadata": {},
   "source": [
    "It's better to consider just a limited region around the star:"
   ]
  },
  {
   "cell_type": "code",
   "execution_count": null,
   "metadata": {},
   "outputs": [],
   "source": [
    "import numpy as np\n",
    "\n",
    "reg = np.s_[250:380,400:530]\n",
    "sub_img = sci.data[reg]\n",
    "x_max, y_max = extrema(sub_img)\n",
    "\n",
    "plot_img_medrange(sub_img)\n",
    "plt.scatter(x_max, y_max)\n",
    "plt.show()"
   ]
  },
  {
   "cell_type": "markdown",
   "metadata": {},
   "source": [
    "The simplest way to cut out our source is to draw a **square mask** around it. We can use ```ogrid``` to obtain row and column indexes re-centered on the red spot:"
   ]
  },
  {
   "cell_type": "code",
   "execution_count": null,
   "metadata": {},
   "outputs": [],
   "source": [
    "shape = sub_img.shape\n",
    "rows, cols = np.ogrid[-y_max:shape[0]-y_max, -x_max:shape[1]-x_max]\n",
    "print(rows)\n",
    "print(cols)"
   ]
  },
  {
   "cell_type": "markdown",
   "metadata": {},
   "source": [
    "The square mask is then defined by selecting the rows and columns whose re-centered indexes do no exceed some given threshold:"
   ]
  },
  {
   "cell_type": "code",
   "execution_count": null,
   "metadata": {},
   "outputs": [],
   "source": [
    "thr=10\n",
    "mask = np.logical_and(np.abs(rows)<thr, np.abs(cols)<thr)\n",
    "print(mask)\n",
    "print(np.where(mask==True))"
   ]
  },
  {
   "cell_type": "markdown",
   "metadata": {},
   "source": [
    "One way to apply the mask is to selectively set to NaN all the pixels of the image where the mask is ```False``` or ```True```. Before doing that, we must create copies of the image, otherwise the information in the masked pixels will be lost:"
   ]
  },
  {
   "cell_type": "code",
   "execution_count": null,
   "metadata": {},
   "outputs": [],
   "source": [
    "inside = np.copy(sub_img)\n",
    "outside = np.copy(sub_img)\n",
    "\n",
    "inside[~mask] = np.nan\n",
    "outside[mask] = np.nan\n",
    "\n",
    "plot_img(inside)\n",
    "plot_img(outside)\n",
    "plt.show()"
   ]
  },
  {
   "cell_type": "markdown",
   "metadata": {},
   "source": [
    "> **Your turn now**: repeat the procedure with a **circular mask** instead of a square one. *Hint*: look at the condition used to define the square and convert it into a condition to define a circle.  "
   ]
  },
  {
   "cell_type": "markdown",
   "metadata": {},
   "source": [
    "### There's something in the background\n",
    "\n",
    "The ```inside``` and ```outside``` cut-outs reveal a very different distribution of ADU values. The ```outside``` readings, in particular, are more-or-less gaussianly distributed around a central value:"
   ]
  },
  {
   "cell_type": "code",
   "execution_count": null,
   "metadata": {},
   "outputs": [],
   "source": [
    "plt.figure(figsize=(12,6))\n",
    "plt.hist(np.ravel(inside[~np.isnan(inside)]), bins=100)\n",
    "plt.title('Inside')\n",
    "\n",
    "plt.figure(figsize=(12,6))\n",
    "plt.hist(np.ravel(outside[~np.isnan(outside)]), bins=100)\n",
    "plt.title('Outside')\n",
    "\n",
    "plt.show()"
   ]
  },
  {
   "cell_type": "markdown",
   "metadata": {},
   "source": [
    "We take the mean of the distribution as an estimate of the **background**, and subtract it from the ```inside``` cut-out. Note that this value is negative, as we previously over-subtracted the bias (see ```reduction.ipynb```). To compute the mean and the standard deviation, we use ```nanmean``` and ```nanstd```, to properly reject NaN values in the arrays:"
   ]
  },
  {
   "cell_type": "code",
   "execution_count": null,
   "metadata": {},
   "outputs": [],
   "source": [
    "outside_mean = np.nanmean(outside)\n",
    "outside_std = np.nanstd(outside)\n",
    "\n",
    "gain = 0.6  # ph/ADU\n",
    "bkg = outside_mean*gain\n",
    "bkg_noise = outside_std*gain\n",
    "print(\"Background: %2.1f+/-%2.1f ph\" % (bkg, bkg_noise))"
   ]
  },
  {
   "cell_type": "markdown",
   "metadata": {},
   "source": [
    "### Counting photons\n",
    "\n",
    "The flux image is obtained by subtracting the background from the ```inside``` cut–out and removing the region with NaN values. We also convert it into photons:"
   ]
  },
  {
   "cell_type": "code",
   "execution_count": null,
   "metadata": {},
   "outputs": [],
   "source": [
    "inside_bkgsub = inside-outside_mean\n",
    "\n",
    "inside_nonan = inside_bkgsub[~np.isnan(inside_bkgsub)]\n",
    "size = int(np.sqrt(len(inside_nonan)))\n",
    "flux = inside_nonan.reshape(size, size)*gain\n",
    "\n",
    "plot_img(flux)\n",
    "plt.title('FLux')\n",
    "plt.show()\n",
    "print(\"Peak: %2.2e, median: %2.2e\" % (np.max(flux), np.median(flux)))"
   ]
  },
  {
   "cell_type": "markdown",
   "metadata": {},
   "source": [
    "The error image is obtained as the root sum squared of the photon shot noise, the RON (see ```reduction.ipynb```), and the background noise:"
   ]
  },
  {
   "cell_type": "code",
   "execution_count": null,
   "metadata": {},
   "outputs": [],
   "source": [
    "ron = 28.8  # ph\n",
    "error = np.sqrt(flux + 2*ron**2 + 2*bkg_noise**2)\n",
    "\n",
    "plot_img(error)\n",
    "plt.title('Error')\n",
    "plt.show()\n",
    "print(\"Peak: %2.2e ph, median: %2.2e ph\" % (np.max(error), np.median(error)))"
   ]
  },
  {
   "cell_type": "markdown",
   "metadata": {},
   "source": [
    "The factor of 2 for the background noise is actually too pessimistic. Normally, it reflects the fact that the noise is first added and then subtracted from our signal, but in this case we used a much larger area on the detector to estimate and subtract it, so this second contribution scales as the ratio between the number of pixels inside and outside the mask:"
   ]
  },
  {
   "cell_type": "code",
   "execution_count": null,
   "metadata": {},
   "outputs": [],
   "source": [
    "subtr_fact = np.sum(mask)/np.sum(~mask)\n",
    "subtr_fact"
   ]
  },
  {
   "cell_type": "markdown",
   "metadata": {},
   "source": [
    "So, a more accurate propagation of the error gives:"
   ]
  },
  {
   "cell_type": "code",
   "execution_count": null,
   "metadata": {},
   "outputs": [],
   "source": [
    "error = np.sqrt(flux + 2*ron**2 + (1+subtr_fact)*bkg_noise**2)\n",
    "print(\"Peak: %2.2e ph, median: %2.2e ph\" % (np.max(error), np.median(error)))"
   ]
  },
  {
   "cell_type": "markdown",
   "metadata": {},
   "source": [
    "The **signal-to-noise ratio** (SNR) is then:"
   ]
  },
  {
   "cell_type": "code",
   "execution_count": null,
   "metadata": {},
   "outputs": [],
   "source": [
    "snr = flux/error\n",
    "\n",
    "plot_img(snr)\n",
    "plt.title('SNR')\n",
    "plt.show()\n",
    "print(\"Peak: %2.2e, median: %2.2e\" % (np.max(snr), np.median(snr)))"
   ]
  },
  {
   "cell_type": "markdown",
   "metadata": {},
   "source": [
    "N.B.: These are values **per pixel**; if we want to average them across the square, we must be careful to multiply the RON and the background noise by the number of pixels:"
   ]
  },
  {
   "cell_type": "code",
   "execution_count": null,
   "metadata": {},
   "outputs": [],
   "source": [
    "flux_total = np.sum(flux)\n",
    "error_total = np.sqrt(np.sum(flux) + 2*ron**2*flux.size + (1+subtr_fact)*bkg_noise**2*flux.size)\n",
    "snr_total = flux_total/error_total\n",
    "\n",
    "print(\"Flux: %2.2e+/-%2.2e ph\" % (flux_total, error_total))\n",
    "print(\"SNR: %2.2e\" % snr_total)"
   ]
  },
  {
   "cell_type": "markdown",
   "metadata": {},
   "source": [
    "> **Your turn now**: use ```ogrid``` to design a circular mask for the target and an annular mask for the background, and use it to perform photometry on SZ Lyn. Compare the SNR you obtain in this case with the one obtained with a square mask."
   ]
  }
 ],
 "metadata": {
  "kernelspec": {
   "display_name": "Python 3",
   "language": "python",
   "name": "python3"
  },
  "language_info": {
   "codemirror_mode": {
    "name": "ipython",
    "version": 3
   },
   "file_extension": ".py",
   "mimetype": "text/x-python",
   "name": "python",
   "nbconvert_exporter": "python",
   "pygments_lexer": "ipython3",
   "version": "3.7.4"
  }
 },
 "nbformat": 4,
 "nbformat_minor": 2
}
